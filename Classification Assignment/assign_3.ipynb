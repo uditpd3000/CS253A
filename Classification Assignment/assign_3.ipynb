{
  "cells": [
    {
      "cell_type": "markdown",
      "metadata": {
        "id": "BKCrcukdE8Bb"
      },
      "source": [
        "# Assignment: Classification\n",
        "\n",
        "Classification refers to categorizing the given data into classes. For example,\n",
        "- Given an image of hand-written character, identifying the character (multi-class classification)\n",
        "- Given an image, annotating it with all the objects present in the image (multi-label classification)\n",
        "- Classifying an email as spam or non-spam (binary classification)\n",
        "- Classifying a tumor as benign or malignant and so on\n",
        "\n",
        "In this assignment, we will be building a classifier to classify emails as spam or non-spam. We will be using the Kaggle dataset [Spam or Not Spam Dataset](https://www.kaggle.com/datasets/ozlerhakan/spam-or-not-spam-dataset?resource=download) for this task. \n",
        "\n",
        "**Note**: You cannot load any libraries other than the mentioned ones.\n",
        "\n",
        "\n"
      ]
    },
    {
      "cell_type": "markdown",
      "metadata": {
        "id": "Irp6f7_2crfu"
      },
      "source": [
        "### Data pre-processing\n",
        "The first step in every machine learning algorithm is to process the raw data in some meaningful representations. We will be using the [Bag-of-Words](https://towardsdatascience.com/a-simple-explanation-of-the-bag-of-words-model-b88fc4f4971) representation to process the text. It comprises of following steps:\n",
        "\n",
        "- Process emails line-by-line to extract all the words.\n",
        "- Replace extracted words by their stem (root) word. This is known as stemming and lematization.\n",
        "- Remove stop words like and, or, is, am, and so on.\n",
        "- Assign a unique index to each word. This forms the vocabulary.\n",
        "- Represent each email as a binary vector of length equal to the size of the vocabulary such that the $i^{th}$ element of the vector is 1 iff the $i^th$ word is present in the email.\n",
        "\n",
        "Here we provide you with the function signature along with the expected functionality. You are expected to complete them accordingly. "
      ]
    },
    {
      "cell_type": "code",
      "execution_count": 1,
      "metadata": {
        "id": "wIlTOyyPn-mN"
      },
      "outputs": [],
      "source": [
        "import numpy as np\n",
        "from nltk.stem import PorterStemmer\n",
        "from nltk.corpus import stopwords \n",
        "\n",
        "import csv           # to read the dataset\n",
        "\n",
        "import sys           # to handle the overflow error due to large size of dataset\n",
        "maxInt = sys.maxsize \n",
        "\n",
        "\n",
        "\n",
        "while True:                          \n",
        "\n",
        "    try:\n",
        "        csv.field_size_limit(maxInt)\n",
        "        break\n",
        "    except OverflowError:\n",
        "         maxInt = int(maxInt/10)  # end of the handling of overflow error, source = stackoverflow\n",
        "\n",
        "vocab={}                   # global variable to store the vocabulary\n",
        "\n",
        "# takes an email as an argument\n",
        "# read email line-by-line and extract all the words\n",
        "# return list of extracted words\n",
        "def read_email(email):\n",
        "  words=[]     \n",
        "  for word in email.split():\n",
        "      if(word not in words):    # we are also removing the duplicates if any\n",
        "        words.append(word)       \n",
        "  return words\n",
        "\n",
        "  \n",
        "# takes a list of words as an argument\n",
        "# replace each word by their stem word\n",
        "# return list of stem words\n",
        "def stemming(words):\n",
        "  ps= PorterStemmer()\n",
        "  stem_words = []\n",
        "  for w in words:\n",
        "    if ps.stem(w) not in stem_words:\n",
        "      stem_words.append( ps.stem(w))\n",
        " \n",
        "  return stem_words\n",
        "\n",
        "\n",
        "\n",
        "# takes a list of stem-words as an argument\n",
        "# remove stop words\n",
        "# return list of stem words after removing stop words\n",
        "def remove_stop_words(stemmed):\n",
        "  stem_no_stop_words =[]\n",
        "  for word in stemmed:\n",
        "     if word not in stopwords.words('english'):\n",
        "       stem_no_stop_words.append(word)\n",
        "  return stem_no_stop_words\n",
        "\n",
        "\n",
        "# takes a list of stem-words as an argument\n",
        "# add new words to the vocabulary and assign a unique index to them\n",
        "# returns new vocabulary\n",
        "def build_vocabulary(stemmed_no_stop):\n",
        "  for word in stemmed_no_stop:\n",
        "    if word not in vocab:\n",
        "      vocab[word]=len(vocab)+1\n",
        "  return vocab\n",
        "\n",
        "\n",
        "\n",
        "\n",
        "# takes a list of stem-words and vocabulary as an argument\n",
        "# returns bow representation\n",
        "def get_bow(stem_word,vocab):\n",
        "  email_bow = []\n",
        "  for word in vocab:\n",
        "    email_bow.append(stem_word.count(word))\n",
        "  \n",
        "  return email_bow\n",
        "\n",
        "\n",
        "email_bow_list=[]             # it will store the list of bow of all the emails of dataset\n",
        "sws_list=[]                   # it contains the list of all words after stemmig and removing stop words\n",
        "labels=[]                    # At first i am keeping 2 lists, 1(labels) to store the label and other(data) for the data/emails\n",
        "\n",
        "\n",
        "# read the entire dataset\n",
        "# convert emails to bow and maintain their labels\n",
        "# call function text_to_bow()\n",
        "\n",
        "def read_data():\n",
        "  \n",
        "  filename = open('spam_or_not_spam.csv', 'r')\n",
        "  file = csv.DictReader(filename)\n",
        "  emails=[]\n",
        "  for col in file:\n",
        "    emails.append(col['email'])\n",
        "    labels.append(col['label'])\n",
        "\n",
        "  for email in emails:          # i will go through every email and call store its stemmed words in a list   \n",
        "    words=[]                    \n",
        "    stemmed=[]\n",
        "    stemming_without_stop=[]\n",
        "    email_bow=[]\n",
        "    words = read_email(email)\n",
        "    stemmed = stemming(words)\n",
        "    stemming_without_stop = remove_stop_words(stemmed)\n",
        "    sws_list.append(stemming_without_stop)\n",
        "    vocab= build_vocabulary(stemming_without_stop)      # then will enhance my vocabulary using it\n",
        "\n",
        "\n",
        "  for stem in sws_list:\n",
        "    email_bow=get_bow(stem,vocab)    # here we call text to bow function\n",
        "    email_bow_list.append(email_bow) # and then append it to the list\n",
        "\n",
        "  return emails\n",
        "data= read_data()\n",
        "\n",
        "\n",
        "\n",
        "  \n",
        "\n",
        "\n",
        "\n",
        "# read_data()"
      ]
    },
    {
      "cell_type": "markdown",
      "metadata": {
        "id": "d0cDiGt6nkPY"
      },
      "source": [
        "### Data Visualization\n",
        "Let's understand the data distribution\n",
        "- Visualize the frequency of word-occurence in all the emails(spam + non-spam)\n",
        "- Visualize the freuency of word-occurence for spam and non-spam emails separately"
      ]
    },
    {
      "cell_type": "code",
      "execution_count": 2,
      "metadata": {
        "id": "4vJLcTxDLZsh"
      },
      "outputs": [
        {
          "data": {
            "image/png": "[encoded data removed]",
            "text/plain": [
              "<Figure size 432x288 with 3 Axes>"
            ]
          },
          "metadata": {
            "needs_background": "light"
          },
          "output_type": "display_data"
        }
      ],
      "source": [
        "import matplotlib.pyplot as plt\n",
        "\n",
        "# visuallze data distribution\n",
        "def data_vis(email_bow_list,label):\n",
        "                               \n",
        "  total_email_bow=[0]*len(email_bow_list[0])                # first we will plot frequency of word-occurence in all the emails\n",
        "  for emails_bow in email_bow_list:\n",
        "    for i in range(len(email_bow_list[0])):\n",
        "      total_email_bow[i]=total_email_bow[i]+ emails_bow[i]\n",
        "  x= list(range(1,len(email_bow_list[0])+1))\n",
        "  plt.subplot(3,1,1)\n",
        "  plt.plot(x,total_email_bow)\n",
        "  plt.xlabel('words')\n",
        "  plt.ylabel('frequency')\n",
        "  \n",
        "  plt.title('All emails')\n",
        "  \n",
        "\n",
        "  \n",
        "\n",
        "  spam=0\n",
        "  not_spam=0\n",
        "  # print(labels)\n",
        "  for i in range(len(labels)):\n",
        "    if labels[i]==1:\n",
        "      spam+=1\n",
        "    else:\n",
        "      not_spam+=1\n",
        "  spam_email_bow=[0]*len(email_bow_list[0])     # now we will move forward to plot for spam emails and non spam emails\n",
        "  non_spam_email_bow=[0]*len(email_bow_list[0])\n",
        "\n",
        "  for i in range(len(email_bow_list)):\n",
        "    if(labels[i]=='1'):\n",
        "      for j in range(len(email_bow_list[0])):\n",
        "        spam_email_bow[j]=spam_email_bow[j]+email_bow_list[i][j]\n",
        "    else:\n",
        "      for j in range(len(email_bow_list[0])):\n",
        "        non_spam_email_bow[j]=non_spam_email_bow[j]+email_bow_list[i][j]\n",
        "  plt.subplot(3,1,2)\n",
        "  plt.plot(x,spam_email_bow)\n",
        "  plt.xlabel('words')\n",
        "  plt.ylabel('frequency')\n",
        "  plt.title('Spam emails')\n",
        "  \n",
        "\n",
        "  plt.subplot(3,1,3)\n",
        "  plt.plot(x,non_spam_email_bow)\n",
        "  plt.xlabel('words')\n",
        "  plt.ylabel('frequency')\n",
        "  plt.title('Non spam emails')\n",
        "  \n",
        "\n",
        "  \n",
        "\n",
        "\n",
        "# print(len(email_bow_list))\n",
        "data_vis(email_bow_list,labels)"
      ]
    },
    {
      "cell_type": "markdown",
      "metadata": {
        "id": "LPq-3nTzGcdX"
      },
      "source": [
        "### Learn a Classifier\n",
        "Split the dataset randomly in the ratio 80:20 as the training and test dataset. Use only training dataset to learn the classifier. No test data should be used during training. Test data will only be used during evaluation.\n",
        "\n",
        "Now let us try to use ML algorithms to classify emails as spam or non-spam. You are supposed to implement [SVM](https://scikit-learn.org/stable/modules/svm.html) and [K-Nearest Neighbour](https://scikit-learn.org/stable/modules/generated/sklearn.neighbors.KNeighborsClassifier.html) algorithm available in scikit-learn using the same training dataset for both."
      ]
    },
    {
      "cell_type": "code",
      "execution_count": 3,
      "metadata": {
        "id": "IMpuaPCKHxwh"
      },
      "outputs": [],
      "source": [
        "from sklearn.neighbors import KNeighborsClassifier\n",
        "from sklearn import svm\n",
        "from sklearn.svm import SVC\n",
        "import random\n",
        "\n",
        "emailbow_with_label=list(zip(email_bow_list,labels))  # now i am attaching the labels with the data which was not the case earlier\n",
        "# split dataset\n",
        "def split(data):\n",
        "  X=[]\n",
        "  y=[]\n",
        "  \n",
        "  random.shuffle(data)         # we will use random to split our dataset \n",
        "  for email in data:\n",
        "    X.append(email[0])            # X will contain the bow of email\n",
        "    y.append(email[1])            # y will store the label\n",
        "  training_size= int(len(data)*0.8)  # for splittig in 80:20\n",
        "\n",
        "  X_train = X[:training_size]\n",
        "  X_test= X[training_size:]\n",
        "  y_train = y[:training_size]\n",
        "  y_test= y[training_size:]\n",
        "\n",
        "  return X_train, X_test, y_train,y_test\n",
        "\n",
        "# learn a SVM model\n",
        "# use the model to make prediction\n",
        "# return the model predictions on train and test dataset\n",
        "\n",
        "def svm_classifier(X_train,X_test,y_train):\n",
        "\n",
        "  \n",
        "  classifier = SVC(kernel = 'linear' , random_state = 0) # we will use kernel to be linear classification\n",
        "  classifier.fit(X_train, y_train)                       # now we will fit the data\n",
        "  train_predictions = classifier.predict(X_train)        \n",
        "  test_predictions=classifier.predict(X_test)            # here we will predict the test set\n",
        "  return train_predictions,test_predictions\n",
        "  \n",
        "# implement k-NN algorithm\n",
        "# use the model to make prediction\n",
        "# return the model predictions on train and test dataset\n",
        "\n",
        "def knn_classifier(X_train,y_train,X_test):\n",
        " \n",
        "  classifier = KNeighborsClassifier(n_neighbors=55)     # we will do similarly for knn one\n",
        "  classifier.fit(X_train,y_train)\n",
        "  train_predictions = classifier.predict(X_train)\n",
        "  test_predictions=classifier.predict(X_test)\n",
        "  return train_predictions,test_predictions\n",
        "  # return predict_labels\n",
        "\n",
        "train_data, test_data, train_y,test_y = split(emailbow_with_label)\n",
        "svm_train_predictions, svm_test_predictions = svm_classifier(train_data, test_data,train_y)\n",
        "knn_train_predictions, knn_test_predictions = knn_classifier(train_data,train_y ,test_data)"
      ]
    },
    {
      "cell_type": "markdown",
      "metadata": {
        "id": "SlCwYvluHqQz"
      },
      "source": [
        "### Model Evaluation\n",
        "Compare the SVM and k-NN model using metrics\n",
        "- Accuracy\n",
        "- [AUC score](https://scikit-learn.org/stable/modules/generated/sklearn.metrics.auc.html)\n"
      ]
    },
    {
      "cell_type": "code",
      "execution_count": 4,
      "metadata": {
        "id": "X3KmcTpqKbGI"
      },
      "outputs": [
        {
          "name": "stdout",
          "output_type": "stream",
          "text": [
            "SVM Accuracy = 0.9683333333333334\n",
            "KNN Accuracy = 0.855\n",
            "SVM AUC = 0.9572709775987618\n",
            "KNN AUC = 0.5693069306930694\n"
          ]
        }
      ],
      "source": [
        "from sklearn import metrics\n",
        "from sklearn.metrics import accuracy_score\n",
        "from sklearn.metrics import roc_auc_score\n",
        "# compute accuracy \n",
        "def compute_accuracy(true_labels, predicted_labels):\n",
        "  true__labels = [float(true_label) for true_label in true_labels]\n",
        "  predicted__labels = [float(predicted_label) for predicted_label in predicted_labels]\n",
        "  acc= accuracy_score(true__labels,predicted__labels)  # to calculatethe accuracy\n",
        "  return acc\n",
        "\n",
        "# compute AUC score \n",
        "def compute_auc(true_labels, predicted_labels):\n",
        "  true__labels = [float(true_label) for true_label in true_labels]\n",
        "  predicted__labels = [float(predicted_label) for predicted_label in predicted_labels]\n",
        "  auc= roc_auc_score(true__labels,predicted__labels)  # to calculate the auc\n",
        "  return auc\n",
        "\n",
        "svm_accuracy = compute_accuracy(test_y, svm_test_predictions)\n",
        "knn_Accuracy = compute_accuracy(test_y, knn_test_predictions)\n",
        "\n",
        "svm_Auc = compute_auc(test_y,svm_test_predictions)\n",
        "knn_Auc = compute_auc(test_y,knn_test_predictions)\n",
        "print(\"SVM Accuracy = \"+ str(svm_accuracy))\n",
        "print(\"KNN Accuracy = \"+ str(knn_Accuracy))\n",
        "print(\"SVM AUC = \"+ str(svm_Auc))\n",
        "print(\"KNN AUC = \"+ str(knn_Auc))\n",
        "# write code to print train and test accuracy and AUC score of SVM and k-NN classifier"
      ]
    }
  ],
  "metadata": {
    "colab": {
      "collapsed_sections": [],
      "name": "python-assignment.ipynb",
      "provenance": []
    },
    "kernelspec": {
      "display_name": "Python 3",
      "name": "python3"
    },
    "language_info": {
      "codemirror_mode": {
        "name": "ipython",
        "version": 3
      },
      "file_extension": ".py",
      "mimetype": "text/x-python",
      "name": "python",
      "nbconvert_exporter": "python",
      "pygments_lexer": "ipython3",
      "version": "3.8.10"
    }
  },
  "nbformat": 4,
  "nbformat_minor": 0
}
